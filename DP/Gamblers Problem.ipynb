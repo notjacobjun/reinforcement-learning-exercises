{
 "cells": [
  {
   "cell_type": "markdown",
   "metadata": {
    "collapsed": true
   },
   "source": [
    "### This is Example 4.3. Gambler’s Problem from Sutton's book.\n",
    "\n",
    "A gambler has the opportunity to make bets on the outcomes of a sequence of coin flips. \n",
    "If the coin comes up heads, he wins as many dollars as he has staked on that flip; \n",
    "if it is tails, he loses his stake. The game ends when the gambler wins by reaching his goal of $100, \n",
    "or loses by running out of money. \n",
    "\n",
    "On each flip, the gambler must decide what portion of his capital to stake, in integer numbers of dollars. \n",
    "This problem can be formulated as an undiscounted, episodic, finite MDP. \n",
    "\n",
    "The state is the gambler’s capital, s ∈ {1, 2, . . . , 99}.\n",
    "The actions are stakes, a ∈ {0, 1, . . . , min(s, 100 − s)}. \n",
    "The reward is zero on all transitions except those on which the gambler reaches his goal, when it is +1.\n",
    "\n",
    "The state-value function then gives the probability of winning from each state. A policy is a mapping from levels of capital to stakes. The optimal policy maximizes the probability of reaching the goal. Let p_h denote the probability of the coin coming up heads. If p_h is known, then the entire problem is known and it can be solved, for instance, by value iteration.\n"
   ]
  },
  {
   "cell_type": "code",
   "execution_count": 29,
   "metadata": {
    "collapsed": true
   },
   "outputs": [],
   "source": [
    "import numpy as np\n",
    "import sys\n",
    "import matplotlib.pyplot as plt\n",
    "if \"../\" not in sys.path:\n",
    "  sys.path.append(\"../\") "
   ]
  },
  {
   "cell_type": "markdown",
   "metadata": {
    "collapsed": true
   },
   "source": [
    "\n",
    "### Exercise 4.9 (programming)\n",
    "\n",
    "Implement value iteration for the gambler’s problem and solve it for p_h = 0.25 and p_h = 0.55.\n",
    "\n"
   ]
  },
  {
   "cell_type": "code",
   "execution_count": 30,
   "metadata": {
    "collapsed": true
   },
   "outputs": [],
   "source": [
    "def value_iteration_for_gamblers(p_h, theta=0.0001, discount_factor=1.0):\n",
    "    \"\"\"\n",
    "    Args:\n",
    "        p_h: Probability of the coin coming up heads\n",
    "    \n",
    "    Methodology:\n",
    "    - We are going to start from the final reward of the MDP then work our way backwards by iterating \n",
    "    upon the Bellman optimality equation to find the value function\n",
    "    - We can then use greedy policy optimization based on our value function to come up with the optimal policy.\n",
    "    - During each iteration we are also going to use synchronous backups\n",
    "    \"\"\"\n",
    "\n",
    "    # Initialize starting vars\n",
    "    max_iter = 10000\n",
    "    V, A, rewards = [0 for _ in range(101)], [i for i in range(100)], [0 for _ in range(101)] \n",
    "    # set the final reward to 1\n",
    "    rewards[100] = 1\n",
    "    \n",
    "    def one_step_lookahead(s, V, rewards):\n",
    "        \"\"\"\n",
    "        Helper function to calculate the value for all action in a given state.\n",
    "        \n",
    "        Args:\n",
    "            s: The gambler’s capital. Integer.\n",
    "            V: The vector that contains values at each state. \n",
    "            rewards: The reward vector.\n",
    "                        \n",
    "        Returns:\n",
    "            A vector containing the expected value of each action. \n",
    "            Its length equals to the number of actions.\n",
    "        \"\"\"\n",
    "        \n",
    "        # randomly initialize the action vector\n",
    "        A = np.zeros(101)\n",
    "        # iterate through all the wagers that you can possibly make \n",
    "        for a in range(1, min(s, 100-s) + 1):\n",
    "            # note that since we can either win or lose, our next state is either s+a or s-a\n",
    "            # rewards[s+a], rewards[s-a] are immediate rewards.\n",
    "            # V[s+a], V[s-a] are values of the next states.\n",
    "            # Remember that the Bellman equation basically just tells us that our expected value is the sum\n",
    "            # of our immediate rewards plus the discounted expected return of our future states\n",
    "\n",
    "            # getting the immediate rewards and expected value of the two possible future states\n",
    "            heads_value = (p_h) * (rewards[s+a] + (discount_factor * V[s+a]))\n",
    "            tails_value = (1 - p_h) * (rewards[s-a] + (discount_factor * V[s-a]))\n",
    "            # update the value node in a\n",
    "            A[a] = heads_value + tails_value\n",
    "        \n",
    "        return A\n",
    "    \n",
    "\n",
    "    for _ in range(max_iter):\n",
    "        delta = 0 # This is representative of the change in value function during each iteration\n",
    "        # iterate through each state\n",
    "        for s in range(1,100):\n",
    "            # update the value by finding the best_action by using one-step look ahead\n",
    "            A = one_step_lookahead(s, V, rewards)\n",
    "\n",
    "            best_action_value = np.max(A)\n",
    "            # update the delta value if necessary\n",
    "            delta = max(delta, np.abs(best_action_value - V[s]))\n",
    "            # update the current state-value for V\n",
    "            V[s] = best_action_value\n",
    "\n",
    "        # Stopping condition (when our error is less than theta, which is the error tolerance)\n",
    "        if delta < theta:\n",
    "            break\n",
    "    \n",
    "\n",
    "    # Use greedy-policy improvement to get the optimal policy using the value function\n",
    "    # randomly initialize the policy\n",
    "    policy = np.zeros(100)\n",
    "    for s in range(1, 100):\n",
    "        # for each state, choose the best wager by choosing the highest value in the A list \n",
    "        A = one_step_lookahead(s, V, rewards)\n",
    "        best_wager = np.argmax(A)\n",
    "        policy[s] = best_wager\n",
    "\n",
    "    return policy, V"
   ]
  },
  {
   "cell_type": "code",
   "execution_count": 31,
   "metadata": {
    "collapsed": true
   },
   "outputs": [
    {
     "name": "stdout",
     "output_type": "stream",
     "text": [
      "Optimized Policy:\n",
      "[ 0.  1.  2.  3.  4.  5.  6.  7.  8.  9. 10. 11. 12. 12. 11. 15. 16. 17.\n",
      " 18.  6. 20. 21.  3. 23. 24. 25.  1.  2.  3.  4.  5.  6.  7.  8.  9. 10.\n",
      " 11. 12. 38. 11. 10.  9. 42.  7. 44.  5. 46. 47. 48. 49. 50.  1.  2.  3.\n",
      "  4.  5.  6.  7.  8.  9. 10. 11. 12. 13. 11. 10.  9. 17.  7. 19.  5. 21.\n",
      " 22. 23. 24. 25.  1.  2.  3.  4.  5.  6.  7.  8.  9. 10. 11. 12. 12. 11.\n",
      " 10.  9.  8.  7.  6.  5.  4.  3.  2.  1.]\n",
      "\n",
      "Optimized Value Function:\n",
      "[0, 7.2479248046875e-05, 0.0002899169921875, 0.0006952574476599693, 0.00116010382771492, 0.0017690658569335938, 0.0027810297906398773, 0.004035040736198425, 0.00466214120388031, 0.0055999755859375, 0.007084712386131287, 0.009039640426635742, 0.01112411916255951, 0.015679359436035156, 0.016146443085744977, 0.016951799392700195, 0.01865128055214882, 0.019824981689453125, 0.022404730319976807, 0.027384519577026367, 0.028338849544525146, 0.030493736267089844, 0.036163389682769775, 0.03849530220031738, 0.04449647665023804, 0.0625, 0.06271743774414062, 0.06337007787078619, 0.06458577234297991, 0.06599660590291023, 0.06781353428959846, 0.07084308937191963, 0.07460983231430873, 0.07648846041411161, 0.0793035477399826, 0.08375413715839386, 0.08962254226207733, 0.09587235748767853, 0.10953807830810547, 0.11093932925723493, 0.11336015071719885, 0.11845737423573155, 0.12197766080498695, 0.129716906696558, 0.1446535587310791, 0.14752011303789914, 0.15398324560374022, 0.17099016904830933, 0.17798743420280516, 0.19599057565210387, 0.25, 0.2502174377441406, 0.2508700778707862, 0.2520857723429799, 0.25349660590291023, 0.25531353428959846, 0.25834308937191963, 0.26210983231430873, 0.2639884604141116, 0.2668035477399826, 0.27125413715839386, 0.27712254226207733, 0.28337235748767853, 0.29703807830810547, 0.29843932925723493, 0.30086015071719885, 0.30595737423573155, 0.30947766080498695, 0.317216906696558, 0.3321535587310791, 0.33502011303789914, 0.3414832456037402, 0.3584901690483093, 0.36548743420280516, 0.38349057565210387, 0.4375, 0.43815255840308964, 0.4401224544271827, 0.4437573170289397, 0.4479913453105837, 0.4534406028687954, 0.4625292681157589, 0.4738294969429262, 0.47946803067679866, 0.4879126800224185, 0.5012650847784244, 0.518867626786232, 0.5376179317390779, 0.5786144188023172, 0.5828179877717048, 0.5900804521515965, 0.6053721227071946, 0.6159345100168139, 0.639150720089674, 0.6839608141017379, 0.6925603391136974, 0.7119508825126104, 0.7629706105763034, 0.7839631618844578, 0.8379723714133434, 0]\n",
      "\n"
     ]
    }
   ],
   "source": [
    "policy, v = value_iteration_for_gamblers(0.25)\n",
    "\n",
    "print(\"Optimized Policy:\")\n",
    "print(policy)\n",
    "print(\"\")\n",
    "\n",
    "print(\"Optimized Value Function:\")\n",
    "print(v)\n",
    "print(\"\")"
   ]
  },
  {
   "cell_type": "code",
   "execution_count": 32,
   "metadata": {
    "collapsed": true
   },
   "outputs": [
    {
     "data": {
      "image/png": "[encoded data removed]",
      "text/plain": [
       "<Figure size 432x288 with 1 Axes>"
      ]
     },
     "metadata": {
      "needs_background": "light"
     },
     "output_type": "display_data"
    }
   ],
   "source": [
    "# Plotting Final Policy (action stake) vs State (Capital)\n",
    "\n",
    "# x axis values\n",
    "x = range(100)\n",
    "# corresponding y axis values\n",
    "y = v[:100]\n",
    " \n",
    "# plotting the points \n",
    "plt.plot(x, y)\n",
    " \n",
    "# naming the x axis\n",
    "plt.xlabel('Capital')\n",
    "# naming the y axis\n",
    "plt.ylabel('Value Estimates')\n",
    " \n",
    "# giving a title to the graph\n",
    "plt.title('Final Policy (action stake) vs State (Capital)')\n",
    " \n",
    "# function to show the plot\n",
    "plt.show()"
   ]
  },
  {
   "cell_type": "code",
   "execution_count": 33,
   "metadata": {
    "collapsed": true
   },
   "outputs": [
    {
     "data": {
      "image/png": "[encoded data removed]",
      "text/plain": [
       "<Figure size 432x288 with 1 Axes>"
      ]
     },
     "metadata": {
      "needs_background": "light"
     },
     "output_type": "display_data"
    }
   ],
   "source": [
    "# Plotting Capital vs Final Policy\n",
    "\n",
    "# x axis values\n",
    "x = range(100)\n",
    "# corresponding y axis values\n",
    "y = policy\n",
    " \n",
    "# plotting the bars\n",
    "plt.bar(x, y, align='center', alpha=0.5)\n",
    " \n",
    "# naming the x axis\n",
    "plt.xlabel('Capital')\n",
    "# naming the y axis\n",
    "plt.ylabel('Final policy (stake)')\n",
    " \n",
    "# giving a title to the graph\n",
    "plt.title('Capital vs Final Policy')\n",
    " \n",
    "# function to show the plot\n",
    "plt.show()\n"
   ]
  }
 ],
 "metadata": {
  "kernelspec": {
   "display_name": "Python 3.8.11 ('base')",
   "language": "python",
   "name": "python3"
  },
  "language_info": {
   "codemirror_mode": {
    "name": "ipython",
    "version": 3
   },
   "file_extension": ".py",
   "mimetype": "text/x-python",
   "name": "python",
   "nbconvert_exporter": "python",
   "pygments_lexer": "ipython3",
   "version": "3.8.11"
  },
  "vscode": {
   "interpreter": {
    "hash": "444e054df59c75cf35a3ce3c9807b4242f0ba18f08834ba5e1e088781c2ff431"
   }
  }
 },
 "nbformat": 4,
 "nbformat_minor": 1
}
